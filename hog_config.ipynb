{
 "cells": [
  {
   "cell_type": "code",
   "execution_count": 4,
   "id": "7f024619-bb23-499a-b982-114a5e01fd7a",
   "metadata": {},
   "outputs": [],
   "source": [
    "import cv2\n",
    "import numpy as np\n",
    "from matplotlib import pyplot as plt\n",
    "import os\n",
    "import glob\n",
    "from skimage import color\n",
    "from skimage.feature import hog\n",
    "from sklearn import svm\n",
    "from sklearn.metrics import classification_report, accuracy_score\n",
    "from sklearn import svm\n",
    "from sklearn.model_selection import train_test_split\n",
    "import joblib"
   ]
  },
  {
   "cell_type": "code",
   "execution_count": 5,
   "id": "4000fe47-2c0a-442a-965f-9a5ebb1fa36a",
   "metadata": {},
   "outputs": [],
   "source": [
    "WIN_SIZE = (64, 32)\n",
    "BLOCK_SIZE = (32, 16)\n",
    "BLOCK_STRIDE = (16, 16)\n",
    "CELL_SIZE = (16, 8)\n",
    "N_BINS = 9\n",
    "DERIV_APERATURE = 1\n",
    "WIN_SIGMA = -1.\n",
    "HISTOGRAM_NORM_TYPE = 0\n",
    "L2_HISTOGRAM_THRESOLD = 0.2\n",
    "GAMMA_CORRECTION = 1\n",
    "N_LEVELS = 64\n",
    "USE_SIGNED_GRADIENTS = False"
   ]
  },
  {
   "cell_type": "code",
   "execution_count": 6,
   "id": "b80da2fb-fbd6-45b3-8dd9-56c660923ca9",
   "metadata": {},
   "outputs": [],
   "source": [
    "hog_human = cv2.HOGDescriptor(\n",
    "    WIN_SIZE,\n",
    "    BLOCK_SIZE,\n",
    "    BLOCK_STRIDE,\n",
    "    CELL_SIZE,\n",
    "    N_BINS,\n",
    "    DERIV_APERATURE,\n",
    "    WIN_SIGMA,\n",
    "    HISTOGRAM_NORM_TYPE,\n",
    "    L2_HISTOGRAM_THRESOLD,\n",
    "    GAMMA_CORRECTION,\n",
    "    N_LEVELS,\n",
    "    USE_SIGNED_GRADIENTS\n",
    ")"
   ]
  },
  {
   "cell_type": "code",
   "execution_count": null,
   "id": "97c8168a-f978-4966-9020-3d773620bbe2",
   "metadata": {},
   "outputs": [],
   "source": []
  }
 ],
 "metadata": {
  "kernelspec": {
   "display_name": "Python 3",
   "language": "python",
   "name": "python3"
  },
  "language_info": {
   "codemirror_mode": {
    "name": "ipython",
    "version": 3
   },
   "file_extension": ".py",
   "mimetype": "text/x-python",
   "name": "python",
   "nbconvert_exporter": "python",
   "pygments_lexer": "ipython3",
   "version": "3.8.6"
  }
 },
 "nbformat": 4,
 "nbformat_minor": 5
}
