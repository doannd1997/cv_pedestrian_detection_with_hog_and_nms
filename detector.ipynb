{
 "cells": [
  {
   "cell_type": "code",
   "execution_count": 1,
   "id": "a6826a07-9577-4128-af1d-85f83a9cc303",
   "metadata": {},
   "outputs": [],
   "source": [
    "import cv2\n",
    "import numpy as np\n",
    "from matplotlib import pyplot as plt\n",
    "import os\n",
    "import glob\n",
    "from skimage import color\n",
    "from skimage.feature import hog\n",
    "from sklearn import svm\n",
    "from sklearn.metrics import classification_report, accuracy_score\n",
    "from sklearn import svm\n",
    "from sklearn.model_selection import train_test_split\n",
    "import joblib\n",
    "import import_ipynb\n",
    "\n",
    "from ipynb.fs.full.hog_config import hog_human, WIN_SIZE\n",
    "# from ipynb.fs.full.nms import nmsf"
   ]
  },
  {
   "cell_type": "code",
   "execution_count": 2,
   "id": "dae2fc01-1bb0-4386-87c8-3d666d9f955e",
   "metadata": {},
   "outputs": [],
   "source": [
    "clf = joblib.load('model_hog_svm.pkl')"
   ]
  },
  {
   "cell_type": "code",
   "execution_count": 3,
   "id": "c79d149b-60e4-43e1-99bf-b1d551dee473",
   "metadata": {},
   "outputs": [],
   "source": [
    "def pyramid(im, scale_step=1.2, min_size=(40, 40)):\n",
    "    yield im\n",
    "    while True:\n",
    "        h = int(im.shape[0] / scale_step)\n",
    "        w = int(im.shape[1] / scale_step)\n",
    "        if h < min_size[0] or w < min_size[1]:\n",
    "            break\n",
    "        im = cv2.resize(im, (w, h))\n",
    "        yield im"
   ]
  },
  {
   "cell_type": "code",
   "execution_count": 4,
   "id": "cc7d85f4-94d2-4d87-ab84-43ef252777ed",
   "metadata": {},
   "outputs": [],
   "source": [
    "def slide_windows(im, step_size, win_size, padding=2):\n",
    "    for y in range(padding, im.shape[0]-win_size[0]-padding, step_size):\n",
    "        for x in range(padding, im.shape[1]-win_size[1]-padding, step_size):\n",
    "            yield (y, x, im[y:y + win_size[0], x:x + win_size[1]])"
   ]
  },
  {
   "cell_type": "code",
   "execution_count": 5,
   "id": "2bb22ca0-ffe2-4dd9-b8d3-4366232e8d43",
   "metadata": {},
   "outputs": [],
   "source": [
    "step_size = 5\n",
    "win_size = (64, 32)\n",
    "probability_thresold = 0.9"
   ]
  },
  {
   "cell_type": "code",
   "execution_count": 121,
   "id": "dda886b6-1c3c-4f98-b903-4fdfe5a27a5a",
   "metadata": {},
   "outputs": [],
   "source": [
    "# img = cv2.imread(\"dataset/cctv_pos/1_231.png\")\n",
    "img = cv2.imread(\"sample_5.jpg\")\n",
    "# img = cv2.imread(\"dataset/human_pos/16.png\")"
   ]
  },
  {
   "cell_type": "code",
   "execution_count": 107,
   "id": "47ba94b8-014e-49be-9424-391ee34a72c3",
   "metadata": {},
   "outputs": [],
   "source": [
    "border_type = cv2.BORDER_CONSTANT\n",
    "border_top = border_bottom = int(win_size[0])\n",
    "border_left = border_right = int(win_size[1])\n",
    "def make_border(img):\n",
    "    border_img = cv2.copyMakeBorder(\n",
    "        img,\n",
    "        border_top,\n",
    "        border_bottom,\n",
    "        border_left,\n",
    "        border_right,\n",
    "        border_type,\n",
    "        None,\n",
    "        None\n",
    "    )\n",
    "    return border_img\n",
    "\n",
    "img = make_border(img)"
   ]
  },
  {
   "cell_type": "code",
   "execution_count": 122,
   "id": "95a49aba-8ad0-4d60-955e-4ad282ed34b8",
   "metadata": {},
   "outputs": [],
   "source": [
    "bounding_boxs = np.zeros(5, np.int64)\n",
    "pyramids = pyramid(img)\n",
    "for c, pyr in enumerate(pyramids):\n",
    "    for _, (y, x, patch) in enumerate(slide_windows(pyr, step_size, win_size)):\n",
    "        if patch.shape[0] != win_size[0] or patch.shape[1] != win_size[1]:\n",
    "            continue\n",
    "            \n",
    "        resized_patch = cv2.resize(patch, WIN_SIZE)\n",
    "        descriptor = np.transpose(hog_human.compute(resized_patch))\n",
    "        y_predict = clf.predict(descriptor)\n",
    "        y_probability = clf.predict_proba(descriptor)\n",
    "        y_true_probability = y_probability[0][1]\n",
    "        \n",
    "        match = y_true_probability > probability_thresold\n",
    "        \n",
    "        if match:\n",
    "            scale_rate = img.shape[0]/pyr.shape[0]\n",
    "            bounding_boxs = np.vstack((\n",
    "                bounding_boxs,\n",
    "                np.array([\n",
    "                    int(y*scale_rate),\n",
    "                    int(x*scale_rate),\n",
    "                    int((y+patch.shape[0])*scale_rate),\n",
    "                    int((x+patch.shape[1])*scale_rate),\n",
    "                    int(y_true_probability*1000)]\n",
    "            )))\n",
    "        \n",
    "        pyr_2 = pyr.copy()\n",
    "        color = (255, 0, 0) if match else (127,127, 127)\n",
    "        drawed = cv2.rectangle(pyr_2, (x, y), (x + win_size[1], y + win_size[0]), color, 2)\n",
    "        cv2.putText(drawed, \"{:.2f}\".format(y_true_probability), (x, y), cv2.FONT_HERSHEY_SIMPLEX, \n",
    "                   0.35, (255, 255, 0), 1, cv2.LINE_AA)\n",
    "        cv2.imshow(\"slide\", drawed)\n",
    "        cv2.waitKey(500 if match else 1)\n",
    "bounding_boxs = np.delete(bounding_boxs, (0), axis=0)\n",
    "cv2.destroyAllWindows()"
   ]
  },
  {
   "cell_type": "code",
   "execution_count": 123,
   "id": "3f71d154-bdb6-46d2-99a6-780c07906241",
   "metadata": {},
   "outputs": [],
   "source": [
    "ratio_prob_scale = 0.8\n",
    "def nmsf(boxes, overlapThresh):\n",
    "    if len(boxes) == 0:\n",
    "        return []\n",
    "\n",
    "    if boxes.dtype.kind == \"i\":\n",
    "        boxes = boxes.astype(\"float\")\n",
    "\n",
    "    pick = []\n",
    "    x1 = boxes[:,0]\n",
    "    y1 = boxes[:,1]\n",
    "    x2 = boxes[:,2]\n",
    "    y2 = boxes[:,3]\n",
    "\n",
    "    area = (x2 - x1 + 1) * (y2 - y1 + 1)\n",
    "    idxs = np.argsort(\n",
    "        ratio_prob_scale*((boxes[:,4]/1000-probability_thresold)/(1-probability_thresold))\n",
    "        +\n",
    "        (1-ratio_prob_scale)*((y2-y1)/win_size[0])\n",
    "    )\n",
    "    while len(idxs) > 0:\n",
    "        last = len(idxs) - 1\n",
    "        i = idxs[last]\n",
    "        pick.append(i)\n",
    "\n",
    "        xx1 = np.maximum(x1[i], x1[idxs[:last]])\n",
    "        yy1 = np.maximum(y1[i], y1[idxs[:last]])\n",
    "        xx2 = np.minimum(x2[i], x2[idxs[:last]])\n",
    "        yy2 = np.minimum(y2[i], y2[idxs[:last]])\n",
    "\n",
    "        w = np.maximum(0, xx2 - xx1 + 1)\n",
    "        h = np.maximum(0, yy2 - yy1 + 1)\n",
    "\n",
    "        overlap = (w * h) / area[idxs[:last]]\n",
    "        idxs = np.delete(idxs, np.concatenate(([last],\n",
    "            np.where(overlap > overlapThresh)[0])))\n",
    "    return boxes[pick].astype(\"int\")"
   ]
  },
  {
   "cell_type": "code",
   "execution_count": 124,
   "id": "4ba8fb25-419c-4cf3-a39d-517fc017f673",
   "metadata": {
    "tags": []
   },
   "outputs": [],
   "source": [
    "detected_img = img.copy()\n",
    "nms_img = img.copy()\n",
    "nms_bounding_boxs = nmsf(bounding_boxs, 0.3)\n",
    "for bb in bounding_boxs:\n",
    "    cv2.rectangle(detected_img, (bb[1], bb[0]), (bb[3], bb[2]), (255, 0, 0), 2)\n",
    "    cv2.putText(detected_img, str(bb[4]/1000), (bb[1], bb[0]), cv2.FONT_HERSHEY_SIMPLEX, \n",
    "                   0.35, (255, 255, 0), 1, cv2.LINE_AA)\n",
    "cv2.imshow(\"detected\", detected_img)\n",
    "\n",
    "for nbb in nms_bounding_boxs:\n",
    "    cv2.rectangle(nms_img, (nbb[1], nbb[0]), (nbb[3], nbb[2]), (255, 0, 0), 2)\n",
    "    cv2.putText(nms_img, str(nbb[4]/1000), (nbb[1], nbb[0]), cv2.FONT_HERSHEY_SIMPLEX, \n",
    "                   0.35, (255, 255, 0), 1, cv2.LINE_AA)\n",
    "cv2.imshow(\"after nms\", nms_img)\n",
    "\n",
    "cv2.waitKey()\n",
    "cv2.destroyAllWindows()"
   ]
  },
  {
   "cell_type": "code",
   "execution_count": 15,
   "id": "26e3f912-b02b-4ec7-836f-84ef57a612f9",
   "metadata": {},
   "outputs": [],
   "source": []
  }
 ],
 "metadata": {
  "kernelspec": {
   "display_name": "Python 3",
   "language": "python",
   "name": "python3"
  },
  "language_info": {
   "codemirror_mode": {
    "name": "ipython",
    "version": 3
   },
   "file_extension": ".py",
   "mimetype": "text/x-python",
   "name": "python",
   "nbconvert_exporter": "python",
   "pygments_lexer": "ipython3",
   "version": "3.8.6"
  }
 },
 "nbformat": 4,
 "nbformat_minor": 5
}
