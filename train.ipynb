{
 "cells": [
  {
   "cell_type": "code",
   "execution_count": 9,
   "id": "2205a57d-f63c-46e8-9724-0a12795d8301",
   "metadata": {
    "tags": []
   },
   "outputs": [],
   "source": [
    "import cv2\n",
    "import numpy as np\n",
    "from matplotlib import pyplot as plt\n",
    "import os\n",
    "import glob\n",
    "from skimage import color\n",
    "from skimage.feature import hog\n",
    "from sklearn import svm\n",
    "from sklearn.metrics import classification_report, accuracy_score\n",
    "from sklearn import svm\n",
    "from sklearn.model_selection import train_test_split\n",
    "import joblib\n",
    "\n",
    "from ipynb.fs.full.hog_config import hog_human, WIN_SIZE"
   ]
  },
  {
   "cell_type": "code",
   "execution_count": 10,
   "id": "7a193644-fab8-4a54-9ab4-b2f587c71932",
   "metadata": {},
   "outputs": [],
   "source": [
    "datasets = [\n",
    "        (1, \"dataset/human_pos\"),\n",
    "        (0, \"dataset/human_neg\")\n",
    "         ]"
   ]
  },
  {
   "cell_type": "code",
   "execution_count": 11,
   "id": "f1f08d15-b83f-49c7-aea2-bbdfc02459a8",
   "metadata": {
    "tags": []
   },
   "outputs": [],
   "source": [
    "features = np.zeros((1, 216), np.float32)\n",
    "labels = np.zeros(1, np.int64)\n",
    "\n",
    "for ds in datasets:\n",
    "    label = ds[0]\n",
    "    path = ds[1]\n",
    "    image_files = glob.glob(path + \"/*\")\n",
    "    for image_file in image_files:\n",
    "        img = cv2.imread(image_file, cv2.IMREAD_COLOR)\n",
    "        resized_im = cv2.resize(img, WIN_SIZE)\n",
    "        descriptor = np.transpose(hog_human.compute(resized_im))\n",
    "        features = np.vstack((features, descriptor))\n",
    "        labels = np.vstack((labels, label))\n",
    "\n",
    "features = np.delete(features, (0), axis=0)\n",
    "labels = np.delete(labels, (0), axis=0).ravel()"
   ]
  },
  {
   "cell_type": "code",
   "execution_count": 12,
   "id": "5055600d-d81c-40f6-aa3a-0c437fdf8759",
   "metadata": {},
   "outputs": [],
   "source": [
    "x_train, x_test, y_train, y_test = train_test_split(\n",
    "    features, \n",
    "    labels, \n",
    "    test_size=0.2, \n",
    "    random_state=42\n",
    ")"
   ]
  },
  {
   "cell_type": "code",
   "execution_count": 13,
   "id": "9a02b20b-3e40-486c-9d58-8defbfacb47a",
   "metadata": {},
   "outputs": [
    {
     "name": "stdout",
     "output_type": "stream",
     "text": [
      "== train set ==\n",
      " (2741, 216) (2741,)\n",
      "== test set ==\n",
      " (686, 216) (686,)\n",
      "=== RESULT ===\n",
      "Accuracy:  0.956268221574344\n",
      "              precision    recall  f1-score   support\n",
      "\n",
      "           0       0.94      0.94      0.94       236\n",
      "           1       0.97      0.97      0.97       450\n",
      "\n",
      "    accuracy                           0.96       686\n",
      "   macro avg       0.95      0.95      0.95       686\n",
      "weighted avg       0.96      0.96      0.96       686\n",
      "\n"
     ]
    },
    {
     "data": {
      "text/plain": [
       "['model_hog_svm.pkl']"
      ]
     },
     "execution_count": 13,
     "metadata": {},
     "output_type": "execute_result"
    }
   ],
   "source": [
    "print(\"== train set ==\\n\", x_train.shape, y_train.shape)\n",
    "print('== test set ==\\n', x_test.shape, y_test.shape)\n",
    "\n",
    "clf = svm.SVC()\n",
    "clf.fit(x_train, y_train)\n",
    "\n",
    "y_pred = clf.predict(x_test)\n",
    "\n",
    "print('=== RESULT ===')\n",
    "print('Accuracy: ', accuracy_score(y_test, y_pred))\n",
    "print(classification_report(y_test, y_pred))\n",
    "\n",
    "joblib.dump(clf, 'model_hog_svm.pkl') "
   ]
  }
 ],
 "metadata": {
  "kernelspec": {
   "display_name": "Python 3",
   "language": "python",
   "name": "python3"
  },
  "language_info": {
   "codemirror_mode": {
    "name": "ipython",
    "version": 3
   },
   "file_extension": ".py",
   "mimetype": "text/x-python",
   "name": "python",
   "nbconvert_exporter": "python",
   "pygments_lexer": "ipython3",
   "version": "3.8.6"
  }
 },
 "nbformat": 4,
 "nbformat_minor": 5
}
